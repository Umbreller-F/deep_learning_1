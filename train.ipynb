{
 "cells": [
  {
   "cell_type": "code",
   "execution_count": null,
   "metadata": {},
   "outputs": [],
   "source": [
    "import os\n",
    "import os.path\n",
    "import csv\n",
    "import time\n",
    "import PIL\n",
    "import math\n",
    "from sklearn.model_selection import StratifiedShuffleSplit\n",
    "import torch\n",
    "import torch.nn as nn\n",
    "import torch.nn.functional as F\n",
    "import torch.nn.init as init\n",
    "import torch.optim as optim\n",
    "from torch.utils.data import Dataset, DataLoader\n",
    "from torchvision import datasets, transforms, models\n",
    "import numpy as np\n",
    "import matplotlib.pyplot as plt\n",
    "from PIL import Image\n",
    "from tqdm import tqdm\n",
    "\n",
    "from ImageNet import *\n",
    "from CNN import *\n",
    "from ResNet import *\n",
    "from utils import *"
   ]
  },
  {
   "cell_type": "code",
   "execution_count": null,
   "metadata": {},
   "outputs": [],
   "source": [
    "# Initialize dataset related parameters\n",
    "data_dir = './data'\n",
    "\n",
    "workers = 1\n",
    "batch_size = 64\n",
    "\n",
    "######################## task 3.1 ##########################\n",
    "\n",
    "max_epochs = 1\n",
    "lr = 0.015 \n",
    "\n",
    "########################    END   ##########################\n",
    "\n",
    "\n",
    "gpu = torch.cuda.is_available()\n",
    "\n",
    "if gpu:\n",
    "    print('Training on GPU')\n",
    "else:\n",
    "    print('Training on CPU')"
   ]
  },
  {
   "cell_type": "code",
   "execution_count": null,
   "metadata": {},
   "outputs": [],
   "source": [
    "transform1 = transforms.RandomApply([\n",
    "    ######################## task 0.1 ##########################\n",
    "    \n",
    "])\n",
    "########################    END   ##########################\n",
    "\n",
    "transform2 = transforms.ToTensor()"
   ]
  },
  {
   "cell_type": "code",
   "execution_count": null,
   "metadata": {},
   "outputs": [],
   "source": [
    "dataset = TinyImageNetDataset(data_dir+'/train', transform=transforms.Compose([transform1, transform2]))\n",
    "labels = dataset.get_labels()\n",
    "\n",
    "sss = StratifiedShuffleSplit(n_splits=1, test_size=0.1, random_state=0) # 分层抽样\n",
    "idx_tr, idx_val = next(sss.split(labels, labels)) # 获得抽样索引\n",
    "\n",
    "# 按索引划分获得训练集&验证集\n",
    "dataset_tr = torch.utils.data.Subset(dataset, idx_tr)\n",
    "dataset_val = torch.utils.data.Subset(dataset, idx_val)\n",
    "\n",
    "dataloader_tr = torch.utils.data.DataLoader(dataset_tr, batch_size=batch_size, shuffle=True, num_workers=workers)\n",
    "dataloader_val = torch.utils.data.DataLoader(dataset_val, batch_size=batch_size, shuffle=True, num_workers=workers)\n",
    "\n",
    "print('Training Dataset Length: ' + str(len(dataset_tr)))\n",
    "print('Validation Dataset Length: ' + str(len(dataset_val)))\n",
    "\n",
    "class_to_idx = dataset.get_class_to_idx()\n",
    "dataset_test = TinyImageNetTestDataset(data_dir+'/val', annot_filename = 'val_annotations.txt', class_to_idx = class_to_idx, transform=transform2)\n",
    "dataloader_test = torch.utils.data.DataLoader(dataset_test, batch_size=batch_size, shuffle=True, num_workers=workers)\n",
    "\n",
    "print('Test Dataset Length: ' + str(len(dataset_test)))"
   ]
  },
  {
   "cell_type": "code",
   "execution_count": null,
   "metadata": {},
   "outputs": [],
   "source": [
    "model = CNN()\n",
    "model.apply(init_weights)\n",
    "if gpu:\n",
    "    model.cuda()\n",
    "\n",
    "######################## task 3.2 ##########################\n",
    "optimizer = torch.optim.Adam(model.parameters(), lr=lr)\n",
    "scheduler = \n",
    "criterion = nn.CrossEntropyLoss()\n",
    "########################    END   ##########################\n",
    "\n",
    "model_filename = 'mymodel.pth'"
   ]
  },
  {
   "cell_type": "code",
   "execution_count": null,
   "metadata": {},
   "outputs": [],
   "source": [
    "def train(dataloader, model, optimizer, criterion):\n",
    "    batch = 0\n",
    "    loss = 0.0\n",
    "    correct = 0.0\n",
    "\n",
    "    model.train()    \n",
    "    \n",
    "    with tqdm(total=len(dataloader.dataset), desc='train', leave=True, ncols=100, unit='B', unit_scale=True) as pbar:\n",
    "        for X, Y in dataloader:\n",
    "            if gpu:\n",
    "                X = X.cuda()\n",
    "                Y = Y.cuda()\n",
    "            optimizer.zero_grad()        \n",
    "            logits = model(X)\n",
    "            cur_loss = criterion(logits, Y)\n",
    "            cur_loss.backward()\n",
    "            optimizer.step()\n",
    "            loss += cur_loss.item()\n",
    "            pred = logits.argmax(dim = 1)\n",
    "            correct += pred.eq(Y).sum()\n",
    "            \n",
    "            pbar.update(dataloader.batch_size)\n",
    "\n",
    "    \n",
    "    loss = loss / float(len(dataloader.dataset))\n",
    "    accuracy = float(correct) / float(len(dataloader.dataset)) * 100\n",
    "    \n",
    "    return loss, accuracy"
   ]
  },
  {
   "cell_type": "code",
   "execution_count": null,
   "metadata": {},
   "outputs": [],
   "source": [
    "def validate(dataloader, model, criterion):\n",
    "    \n",
    "    ######################## task 3.3 ##########################\n",
    "\n",
    "\n",
    "    ########################    END   ##########################\n",
    "    \n",
    "    return loss, accuracy"
   ]
  },
  {
   "cell_type": "code",
   "execution_count": null,
   "metadata": {},
   "outputs": [],
   "source": [
    "def test(model, dataloader):\n",
    "    \n",
    "    ######################## task 3.4 ##########################\n",
    "\n",
    "\n",
    "    ########################    END   ##########################\n",
    "    \n",
    "    return pred, loss, accuracy\n"
   ]
  },
  {
   "cell_type": "code",
   "execution_count": null,
   "metadata": {},
   "outputs": [],
   "source": [
    "def fit(dataloader_tr, dataloader_val, model, criterion, optimizer, max_epoch = 100, scheduler = None, \n",
    "        filename = None, early_stop = True, patience = 10, resume = False):\n",
    "    start_epoch = 0\n",
    "    early_stop_counter = 0\n",
    "    min_loss_val = 1e10    \n",
    "    loss_tr_hist = []\n",
    "    loss_val_hist = []\n",
    "    accuracy_tr_hist = []\n",
    "    accuracy_val_hist = []\n",
    "\n",
    "    '加载已有模型'\n",
    "    if resume == True:\n",
    "        if filename is None:\n",
    "            print('Please Provide File Name to load model')\n",
    "            return\n",
    "        start_epoch, model, optimizer, scheduler, early_stop_counter, loss_tr_hist, loss_val_hist, accuracy_tr_hist, accuracy_val_hist = load_model(filename, model, optimizer, scheduler, mode = 'train')\n",
    "        \n",
    "        \n",
    "    for epoch in range(start_epoch+1, max_epoch + 1):\n",
    "        t0 = time.time()\n",
    "\n",
    "        loss_tr, accuracy_tr = train(dataloader_tr, model, optimizer, criterion)\n",
    "        loss_tr_hist.append(loss_tr)\n",
    "        accuracy_tr_hist.append(accuracy_tr)\n",
    "\n",
    "        loss_val, accuracy_val = validate(dataloader_val, model, criterion)\n",
    "        loss_val_hist.append(loss_val)\n",
    "        accuracy_val_hist.append(accuracy_val)\n",
    "\n",
    "        if scheduler is not None:\n",
    "            scheduler.step(loss_val)\n",
    "\n",
    "        ######################## task 3.5 ##########################\n",
    "\n",
    "\n",
    "        ########################    END   ##########################\n",
    "        \n",
    "    return loss_tr_hist, loss_val_hist, accuracy_tr_hist, accuracy_val_hist"
   ]
  },
  {
   "cell_type": "code",
   "execution_count": null,
   "metadata": {},
   "outputs": [],
   "source": [
    "loss_tr_hist, loss_val_hist, accuracy_tr_hist, accuracy_val_hist = fit(\n",
    "            ######################## task 3.6 ##########################\n",
    "\n",
    "\n",
    "            ########################    END   ##########################\n",
    "            )"
   ]
  },
  {
   "cell_type": "code",
   "execution_count": null,
   "metadata": {},
   "outputs": [],
   "source": [
    "model = CNN()\n",
    "model = load_model(model_filename, model, mode = 'test')\n",
    "if gpu:\n",
    "    model.cuda()\n",
    "pred, loss_test, accuracy_test = test(model, dataloader_test)\n",
    "print('Test Loss: {0:7.4f}  |  Test Accuracy: {1:7.4f}'.format(loss_test, accuracy_test))"
   ]
  }
 ],
 "metadata": {
  "interpreter": {
   "hash": "553c9fd0f2e8de60f7c1e43887c8b5eb4e01ed43100aba3f2fe0931f36bb9abc"
  },
  "kernelspec": {
   "display_name": "Python 3.8.8 ('base')",
   "language": "python",
   "name": "python3"
  },
  "language_info": {
   "codemirror_mode": {
    "name": "ipython",
    "version": 3
   },
   "file_extension": ".py",
   "mimetype": "text/x-python",
   "name": "python",
   "nbconvert_exporter": "python",
   "pygments_lexer": "ipython3",
   "version": "3.9.7"
  },
  "orig_nbformat": 4
 },
 "nbformat": 4,
 "nbformat_minor": 2
}
