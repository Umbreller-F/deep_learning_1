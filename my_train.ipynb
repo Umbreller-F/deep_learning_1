{
 "cells": [
  {
   "cell_type": "code",
   "execution_count": 16,
   "metadata": {},
   "outputs": [],
   "source": [
    "import os\n",
    "import os.path\n",
    "import csv\n",
    "import time\n",
    "import PIL\n",
    "import math\n",
    "from sklearn.model_selection import StratifiedShuffleSplit\n",
    "import torch\n",
    "import torch.nn as nn\n",
    "import torch.nn.functional as F\n",
    "import torch.nn.init as init\n",
    "import torch.optim as optim\n",
    "from torch.utils.data import Dataset, DataLoader\n",
    "from torchvision import datasets, transforms, models\n",
    "import numpy as np\n",
    "import matplotlib.pyplot as plt\n",
    "from PIL import Image\n",
    "from tqdm import tqdm\n",
    "\n",
    "from ImageNet import *\n",
    "from CNN import *\n",
    "from ResNet import *\n",
    "from utils import *\n"
   ]
  },
  {
   "cell_type": "code",
   "execution_count": 17,
   "metadata": {},
   "outputs": [
    {
     "name": "stdout",
     "output_type": "stream",
     "text": [
      "Training on GPU\n"
     ]
    }
   ],
   "source": [
    "# Initialize dataset related parameters\n",
    "data_dir = './data'\n",
    "\n",
    "workers = 1\n",
    "batch_size = 64\n",
    "\n",
    "######################## task 3.1 ##########################\n",
    "\n",
    "max_epochs = 1\n",
    "lr = 0.001\n",
    "\n",
    "########################    END   ##########################\n",
    "\n",
    "\n",
    "gpu = torch.cuda.is_available()\n",
    "if gpu:\n",
    "    print('Training on GPU')\n",
    "else:\n",
    "    print('Training on CPU')\n"
   ]
  },
  {
   "cell_type": "code",
   "execution_count": 18,
   "metadata": {},
   "outputs": [],
   "source": [
    "transform1 = transforms.RandomApply([\n",
    "    ######################## task 0.1 ##########################\n",
    "    transforms.RandomHorizontalFlip(),\n",
    "    transforms.RandomResizedCrop(64, scale=(0.1, 1), ratio=(0.5, 2))\n",
    "])\n",
    "########################    END   ##########################\n",
    "\n",
    "transform2 = transforms.ToTensor()"
   ]
  },
  {
   "cell_type": "code",
   "execution_count": 19,
   "metadata": {},
   "outputs": [
    {
     "name": "stdout",
     "output_type": "stream",
     "text": [
      "Training Dataset Length: 90000\n",
      "Validation Dataset Length: 10000\n",
      "Test Dataset Length: 10000\n"
     ]
    }
   ],
   "source": [
    "'加载数据'\n",
    "dataset = TinyImageNetDataset(\n",
    "    data_dir+'/train', transform=transforms.Compose([transform1, transform2]))\n",
    "labels = dataset.get_labels()\n",
    "\n",
    "sss = StratifiedShuffleSplit(n_splits=1, test_size=0.1, random_state=0)\n",
    "idx_tr, idx_val = next(sss.split(labels, labels))\n",
    "\n",
    "dataset_tr = torch.utils.data.Subset(dataset, idx_tr)\n",
    "dataset_val = torch.utils.data.Subset(dataset, idx_val)\n",
    "\n",
    "dataloader_tr = torch.utils.data.DataLoader(\n",
    "    dataset_tr, batch_size=batch_size, shuffle=True, num_workers=workers)\n",
    "dataloader_val = torch.utils.data.DataLoader(\n",
    "    dataset_val, batch_size=batch_size, shuffle=True, num_workers=workers)\n",
    "\n",
    "print('Training Dataset Length: ' + str(len(dataset_tr)))\n",
    "print('Validation Dataset Length: ' + str(len(dataset_val)))\n",
    "\n",
    "class_to_idx = dataset.get_class_to_idx()\n",
    "dataset_test = TinyImageNetTestDataset(\n",
    "    data_dir+'/val', annot_filename='val_annotations.txt', class_to_idx=class_to_idx, transform=transform2)\n",
    "dataloader_test = torch.utils.data.DataLoader(\n",
    "    dataset_test, batch_size=batch_size, shuffle=True, num_workers=workers)\n",
    "\n",
    "print('Test Dataset Length: ' + str(len(dataset_test)))\n"
   ]
  },
  {
   "cell_type": "code",
   "execution_count": 20,
   "metadata": {},
   "outputs": [],
   "source": [
    "# model = CNN()\n",
    "model = ResNet()\n",
    "model.apply(init_weights)\n",
    "if gpu:\n",
    "    model.cuda()\n",
    "\n",
    "######################## task 3.2 ##########################\n",
    "optimizer = optim.Adam(model.parameters(), lr=0.005)\n",
    "scheduler = optim.lr_scheduler.ExponentialLR(optimizer, gamma=0.99)\n",
    "criterion = nn.CrossEntropyLoss()\n",
    "########################    END   ##########################\n",
    "\n",
    "model_filename = 'mymodel.pth'\n"
   ]
  },
  {
   "cell_type": "code",
   "execution_count": 21,
   "metadata": {},
   "outputs": [
    {
     "name": "stdout",
     "output_type": "stream",
     "text": [
      "ResNet(\n",
      "  (conv0): Conv2d(3, 64, kernel_size=(3, 3), stride=(1, 1), padding=(1, 1))\n",
      "  (bn0): BatchNorm2d(64, eps=1e-05, momentum=0.1, affine=True, track_running_stats=True)\n",
      "  (blk1): Sequential(\n",
      "    (0): ResNetLayer(\n",
      "      (conv0): Conv2d(64, 128, kernel_size=(3, 3), stride=(2, 2), padding=(1, 1))\n",
      "      (bn0): BatchNorm2d(128, eps=1e-05, momentum=0.1, affine=True, track_running_stats=True)\n",
      "      (conv1): Conv2d(128, 128, kernel_size=(3, 3), stride=(1, 1), padding=(1, 1))\n",
      "      (bn1): BatchNorm2d(128, eps=1e-05, momentum=0.1, affine=True, track_running_stats=True)\n",
      "      (skipconn_cnn): Conv2d(64, 128, kernel_size=(1, 1), stride=(2, 2))\n",
      "      (skipconn_bn): BatchNorm2d(128, eps=1e-05, momentum=0.1, affine=True, track_running_stats=True)\n",
      "      (dropout): Dropout(p=0.15, inplace=False)\n",
      "    )\n",
      "    (1): ResNetLayer(\n",
      "      (conv0): Conv2d(128, 128, kernel_size=(3, 3), stride=(1, 1), padding=(1, 1))\n",
      "      (bn0): BatchNorm2d(128, eps=1e-05, momentum=0.1, affine=True, track_running_stats=True)\n",
      "      (conv1): Conv2d(128, 128, kernel_size=(3, 3), stride=(1, 1), padding=(1, 1))\n",
      "      (bn1): BatchNorm2d(128, eps=1e-05, momentum=0.1, affine=True, track_running_stats=True)\n",
      "      (skipconn_cnn): Conv2d(128, 128, kernel_size=(1, 1), stride=(1, 1))\n",
      "      (skipconn_bn): BatchNorm2d(128, eps=1e-05, momentum=0.1, affine=True, track_running_stats=True)\n",
      "      (dropout): Dropout(p=0.15, inplace=False)\n",
      "    )\n",
      "    (2): ResNetLayer(\n",
      "      (conv0): Conv2d(128, 128, kernel_size=(3, 3), stride=(1, 1), padding=(1, 1))\n",
      "      (bn0): BatchNorm2d(128, eps=1e-05, momentum=0.1, affine=True, track_running_stats=True)\n",
      "      (conv1): Conv2d(128, 128, kernel_size=(3, 3), stride=(1, 1), padding=(1, 1))\n",
      "      (bn1): BatchNorm2d(128, eps=1e-05, momentum=0.1, affine=True, track_running_stats=True)\n",
      "      (skipconn_cnn): Conv2d(128, 128, kernel_size=(1, 1), stride=(1, 1))\n",
      "      (skipconn_bn): BatchNorm2d(128, eps=1e-05, momentum=0.1, affine=True, track_running_stats=True)\n",
      "      (dropout): Dropout(p=0.15, inplace=False)\n",
      "    )\n",
      "  )\n",
      "  (blk2): Sequential(\n",
      "    (0): ResNetLayer(\n",
      "      (conv0): Conv2d(128, 256, kernel_size=(3, 3), stride=(2, 2), padding=(1, 1))\n",
      "      (bn0): BatchNorm2d(256, eps=1e-05, momentum=0.1, affine=True, track_running_stats=True)\n",
      "      (conv1): Conv2d(256, 256, kernel_size=(3, 3), stride=(1, 1), padding=(1, 1))\n",
      "      (bn1): BatchNorm2d(256, eps=1e-05, momentum=0.1, affine=True, track_running_stats=True)\n",
      "      (skipconn_cnn): Conv2d(128, 256, kernel_size=(1, 1), stride=(2, 2))\n",
      "      (skipconn_bn): BatchNorm2d(256, eps=1e-05, momentum=0.1, affine=True, track_running_stats=True)\n",
      "      (dropout): Dropout(p=0.15, inplace=False)\n",
      "    )\n",
      "    (1): ResNetLayer(\n",
      "      (conv0): Conv2d(256, 256, kernel_size=(3, 3), stride=(1, 1), padding=(1, 1))\n",
      "      (bn0): BatchNorm2d(256, eps=1e-05, momentum=0.1, affine=True, track_running_stats=True)\n",
      "      (conv1): Conv2d(256, 256, kernel_size=(3, 3), stride=(1, 1), padding=(1, 1))\n",
      "      (bn1): BatchNorm2d(256, eps=1e-05, momentum=0.1, affine=True, track_running_stats=True)\n",
      "      (skipconn_cnn): Conv2d(256, 256, kernel_size=(1, 1), stride=(1, 1))\n",
      "      (skipconn_bn): BatchNorm2d(256, eps=1e-05, momentum=0.1, affine=True, track_running_stats=True)\n",
      "      (dropout): Dropout(p=0.15, inplace=False)\n",
      "    )\n",
      "    (2): ResNetLayer(\n",
      "      (conv0): Conv2d(256, 256, kernel_size=(3, 3), stride=(1, 1), padding=(1, 1))\n",
      "      (bn0): BatchNorm2d(256, eps=1e-05, momentum=0.1, affine=True, track_running_stats=True)\n",
      "      (conv1): Conv2d(256, 256, kernel_size=(3, 3), stride=(1, 1), padding=(1, 1))\n",
      "      (bn1): BatchNorm2d(256, eps=1e-05, momentum=0.1, affine=True, track_running_stats=True)\n",
      "      (skipconn_cnn): Conv2d(256, 256, kernel_size=(1, 1), stride=(1, 1))\n",
      "      (skipconn_bn): BatchNorm2d(256, eps=1e-05, momentum=0.1, affine=True, track_running_stats=True)\n",
      "      (dropout): Dropout(p=0.15, inplace=False)\n",
      "    )\n",
      "    (3): ResNetLayer(\n",
      "      (conv0): Conv2d(256, 256, kernel_size=(3, 3), stride=(1, 1), padding=(1, 1))\n",
      "      (bn0): BatchNorm2d(256, eps=1e-05, momentum=0.1, affine=True, track_running_stats=True)\n",
      "      (conv1): Conv2d(256, 256, kernel_size=(3, 3), stride=(1, 1), padding=(1, 1))\n",
      "      (bn1): BatchNorm2d(256, eps=1e-05, momentum=0.1, affine=True, track_running_stats=True)\n",
      "      (skipconn_cnn): Conv2d(256, 256, kernel_size=(1, 1), stride=(1, 1))\n",
      "      (skipconn_bn): BatchNorm2d(256, eps=1e-05, momentum=0.1, affine=True, track_running_stats=True)\n",
      "      (dropout): Dropout(p=0.15, inplace=False)\n",
      "    )\n",
      "  )\n",
      "  (blk3): Sequential(\n",
      "    (0): ResNetLayer(\n",
      "      (conv0): Conv2d(256, 512, kernel_size=(3, 3), stride=(2, 2), padding=(1, 1))\n",
      "      (bn0): BatchNorm2d(512, eps=1e-05, momentum=0.1, affine=True, track_running_stats=True)\n",
      "      (conv1): Conv2d(512, 512, kernel_size=(3, 3), stride=(1, 1), padding=(1, 1))\n",
      "      (bn1): BatchNorm2d(512, eps=1e-05, momentum=0.1, affine=True, track_running_stats=True)\n",
      "      (skipconn_cnn): Conv2d(256, 512, kernel_size=(1, 1), stride=(2, 2))\n",
      "      (skipconn_bn): BatchNorm2d(512, eps=1e-05, momentum=0.1, affine=True, track_running_stats=True)\n",
      "      (dropout): Dropout(p=0.15, inplace=False)\n",
      "    )\n",
      "    (1): ResNetLayer(\n",
      "      (conv0): Conv2d(512, 512, kernel_size=(3, 3), stride=(1, 1), padding=(1, 1))\n",
      "      (bn0): BatchNorm2d(512, eps=1e-05, momentum=0.1, affine=True, track_running_stats=True)\n",
      "      (conv1): Conv2d(512, 512, kernel_size=(3, 3), stride=(1, 1), padding=(1, 1))\n",
      "      (bn1): BatchNorm2d(512, eps=1e-05, momentum=0.1, affine=True, track_running_stats=True)\n",
      "      (skipconn_cnn): Conv2d(512, 512, kernel_size=(1, 1), stride=(1, 1))\n",
      "      (skipconn_bn): BatchNorm2d(512, eps=1e-05, momentum=0.1, affine=True, track_running_stats=True)\n",
      "      (dropout): Dropout(p=0.15, inplace=False)\n",
      "    )\n",
      "    (2): ResNetLayer(\n",
      "      (conv0): Conv2d(512, 512, kernel_size=(3, 3), stride=(1, 1), padding=(1, 1))\n",
      "      (bn0): BatchNorm2d(512, eps=1e-05, momentum=0.1, affine=True, track_running_stats=True)\n",
      "      (conv1): Conv2d(512, 512, kernel_size=(3, 3), stride=(1, 1), padding=(1, 1))\n",
      "      (bn1): BatchNorm2d(512, eps=1e-05, momentum=0.1, affine=True, track_running_stats=True)\n",
      "      (skipconn_cnn): Conv2d(512, 512, kernel_size=(1, 1), stride=(1, 1))\n",
      "      (skipconn_bn): BatchNorm2d(512, eps=1e-05, momentum=0.1, affine=True, track_running_stats=True)\n",
      "      (dropout): Dropout(p=0.15, inplace=False)\n",
      "    )\n",
      "    (3): ResNetLayer(\n",
      "      (conv0): Conv2d(512, 512, kernel_size=(3, 3), stride=(1, 1), padding=(1, 1))\n",
      "      (bn0): BatchNorm2d(512, eps=1e-05, momentum=0.1, affine=True, track_running_stats=True)\n",
      "      (conv1): Conv2d(512, 512, kernel_size=(3, 3), stride=(1, 1), padding=(1, 1))\n",
      "      (bn1): BatchNorm2d(512, eps=1e-05, momentum=0.1, affine=True, track_running_stats=True)\n",
      "      (skipconn_cnn): Conv2d(512, 512, kernel_size=(1, 1), stride=(1, 1))\n",
      "      (skipconn_bn): BatchNorm2d(512, eps=1e-05, momentum=0.1, affine=True, track_running_stats=True)\n",
      "      (dropout): Dropout(p=0.15, inplace=False)\n",
      "    )\n",
      "    (4): ResNetLayer(\n",
      "      (conv0): Conv2d(512, 512, kernel_size=(3, 3), stride=(1, 1), padding=(1, 1))\n",
      "      (bn0): BatchNorm2d(512, eps=1e-05, momentum=0.1, affine=True, track_running_stats=True)\n",
      "      (conv1): Conv2d(512, 512, kernel_size=(3, 3), stride=(1, 1), padding=(1, 1))\n",
      "      (bn1): BatchNorm2d(512, eps=1e-05, momentum=0.1, affine=True, track_running_stats=True)\n",
      "      (skipconn_cnn): Conv2d(512, 512, kernel_size=(1, 1), stride=(1, 1))\n",
      "      (skipconn_bn): BatchNorm2d(512, eps=1e-05, momentum=0.1, affine=True, track_running_stats=True)\n",
      "      (dropout): Dropout(p=0.15, inplace=False)\n",
      "    )\n",
      "    (5): ResNetLayer(\n",
      "      (conv0): Conv2d(512, 512, kernel_size=(3, 3), stride=(1, 1), padding=(1, 1))\n",
      "      (bn0): BatchNorm2d(512, eps=1e-05, momentum=0.1, affine=True, track_running_stats=True)\n",
      "      (conv1): Conv2d(512, 512, kernel_size=(3, 3), stride=(1, 1), padding=(1, 1))\n",
      "      (bn1): BatchNorm2d(512, eps=1e-05, momentum=0.1, affine=True, track_running_stats=True)\n",
      "      (skipconn_cnn): Conv2d(512, 512, kernel_size=(1, 1), stride=(1, 1))\n",
      "      (skipconn_bn): BatchNorm2d(512, eps=1e-05, momentum=0.1, affine=True, track_running_stats=True)\n",
      "      (dropout): Dropout(p=0.15, inplace=False)\n",
      "    )\n",
      "  )\n",
      "  (avgpool): AvgPool2d(kernel_size=2, stride=2, padding=0)\n",
      "  (blk4): ResNetLayer(\n",
      "    (conv0): Conv2d(512, 512, kernel_size=(3, 3), stride=(1, 1), padding=(1, 1))\n",
      "    (bn0): BatchNorm2d(512, eps=1e-05, momentum=0.1, affine=True, track_running_stats=True)\n",
      "    (conv1): Conv2d(512, 512, kernel_size=(3, 3), stride=(1, 1), padding=(1, 1))\n",
      "    (bn1): BatchNorm2d(512, eps=1e-05, momentum=0.1, affine=True, track_running_stats=True)\n",
      "    (skipconn_cnn): Conv2d(512, 512, kernel_size=(1, 1), stride=(1, 1))\n",
      "    (skipconn_bn): BatchNorm2d(512, eps=1e-05, momentum=0.1, affine=True, track_running_stats=True)\n",
      "    (dropout): Dropout(p=0.15, inplace=False)\n",
      "  )\n",
      "  (flat): Sequential(\n",
      "    (0): Flatten(start_dim=1, end_dim=-1)\n",
      "  )\n",
      "  (fc1): Sequential(\n",
      "    (0): Linear(in_features=8192, out_features=2048, bias=True)\n",
      "    (1): BatchNorm1d(2048, eps=1e-05, momentum=0.1, affine=True, track_running_stats=True)\n",
      "    (2): ReLU()\n",
      "    (3): Dropout(p=0.15, inplace=False)\n",
      "  )\n",
      "  (fc2): Sequential(\n",
      "    (0): Linear(in_features=2048, out_features=512, bias=True)\n",
      "    (1): BatchNorm1d(512, eps=1e-05, momentum=0.1, affine=True, track_running_stats=True)\n",
      "    (2): ReLU()\n",
      "    (3): Dropout(p=0.15, inplace=False)\n",
      "  )\n",
      "  (fc3): Linear(in_features=512, out_features=200, bias=True)\n",
      "  (dropout): Dropout(p=0.15, inplace=False)\n",
      ")\n",
      "torch.Size([1, 3, 64, 64])\n",
      "torch.Size([1, 200])\n"
     ]
    }
   ],
   "source": [
    "print(model)\n",
    "model.eval()\n",
    "test_tensor = torch.randn(1, 3, 64, 64).cuda()\n",
    "print(test_tensor.shape)\n",
    "y1 = model(test_tensor)\n",
    "print(y1.shape)\n"
   ]
  },
  {
   "cell_type": "code",
   "execution_count": 22,
   "metadata": {},
   "outputs": [],
   "source": [
    "def train(dataloader, model, optimizer, criterion):\n",
    "    batch = 0\n",
    "    loss = 0.0\n",
    "    correct = 0.0\n",
    "\n",
    "    model.train()\n",
    "\n",
    "    with tqdm(total=len(dataloader.dataset), desc='train', leave=True, ncols=100, unit='B', unit_scale=True) as pbar:\n",
    "        for X, Y in dataloader:\n",
    "            if gpu:\n",
    "                X = X.cuda()\n",
    "                Y = Y.cuda()\n",
    "\n",
    "            optimizer.zero_grad()\n",
    "            logits = model(X)\n",
    "            cur_loss = criterion(logits, Y)\n",
    "            cur_loss.backward()\n",
    "            optimizer.step()\n",
    "            loss += cur_loss.item()\n",
    "            pred = logits.argmax(dim=1)\n",
    "            correct += pred.eq(Y).sum()\n",
    "\n",
    "            pbar.update(dataloader.batch_size)\n",
    "\n",
    "    loss = loss / float(len(dataloader.dataset))\n",
    "    accuracy = float(correct) / float(len(dataloader.dataset)) * 100\n",
    "\n",
    "    return loss, accuracy\n"
   ]
  },
  {
   "cell_type": "code",
   "execution_count": 23,
   "metadata": {},
   "outputs": [],
   "source": [
    "def validate(dataloader, model, criterion):\n",
    "\n",
    "    ######################## task 3.3 ##########################\n",
    "    with torch.no_grad():\n",
    "        batch = 0\n",
    "        loss = 0.0\n",
    "        correct = 0.0\n",
    "\n",
    "        model.eval()\n",
    "\n",
    "        with tqdm(total=len(dataloader.dataset), desc='validate', leave=True, ncols=100, unit='B', unit_scale=True) as pbar:\n",
    "            for X, Y in dataloader:\n",
    "                if gpu:\n",
    "                    X = X.cuda()\n",
    "                    Y = Y.cuda()\n",
    "\n",
    "                logits = model(X)\n",
    "                cur_loss = criterion(logits, Y)\n",
    "                loss += cur_loss.item()\n",
    "                pred = logits.argmax(dim=1)\n",
    "                correct += pred.eq(Y).sum()\n",
    "\n",
    "                pbar.update(dataloader.batch_size)\n",
    "\n",
    "        loss = loss / float(len(dataloader.dataset))\n",
    "        accuracy = float(correct) / float(len(dataloader.dataset)) * 100\n",
    "\n",
    "    ########################    END   ##########################\n",
    "\n",
    "    return loss, accuracy\n"
   ]
  },
  {
   "cell_type": "code",
   "execution_count": 24,
   "metadata": {},
   "outputs": [],
   "source": [
    "def test(model, dataloader):\n",
    "\n",
    "    ######################## task 3.4 ##########################\n",
    "    with torch.no_grad():\n",
    "        batch = 0\n",
    "        loss = 0.0\n",
    "        correct = 0.0\n",
    "\n",
    "        model.eval()\n",
    "\n",
    "        with tqdm(total=len(dataloader.dataset), desc='test', leave=True, ncols=100, unit='B', unit_scale=True) as pbar:\n",
    "            for X, Y in dataloader:\n",
    "                if gpu:\n",
    "                    X = X.cuda()\n",
    "                    Y = Y.cuda()\n",
    "\n",
    "                logits = model(X)\n",
    "                cur_loss = criterion(logits, Y)\n",
    "                loss += cur_loss.item()\n",
    "                pred = logits.argmax(dim=1)\n",
    "                correct += pred.eq(Y).sum()\n",
    "\n",
    "                pbar.update(dataloader.batch_size)\n",
    "\n",
    "        loss = loss / float(len(dataloader.dataset))\n",
    "        accuracy = float(correct) / float(len(dataloader.dataset)) * 100\n",
    "\n",
    "    ########################    END   ##########################\n",
    "\n",
    "    return pred, loss, accuracy\n"
   ]
  },
  {
   "cell_type": "code",
   "execution_count": 25,
   "metadata": {},
   "outputs": [],
   "source": [
    "def fit(dataloader_tr, dataloader_val, model, criterion, optimizer, max_epoch=100, scheduler=None,\n",
    "        filename=None, early_stop=True, patience=10, resume=False):\n",
    "    start_epoch = 0\n",
    "    early_stop_counter = 0\n",
    "    min_loss_val = 1e10\n",
    "    loss_tr_hist = []\n",
    "    loss_val_hist = []\n",
    "    accuracy_tr_hist = []\n",
    "    accuracy_val_hist = []\n",
    "\n",
    "    '加载已有模型'\n",
    "    if resume == True:\n",
    "        if filename is None:\n",
    "            print('Please Provide File Name to load model')\n",
    "            return\n",
    "        start_epoch, model, optimizer, scheduler, early_stop_counter, loss_tr_hist, loss_val_hist, accuracy_tr_hist, accuracy_val_hist = load_model(\n",
    "            filename, model, optimizer, scheduler, mode='train')\n",
    "\n",
    "    for epoch in range(start_epoch+1, max_epoch + 1):\n",
    "        t0 = time.time()\n",
    "        # print('epoch:{}'.format(epoch))\n",
    "        tqdm.write('epoch:'+str(epoch))\n",
    "        tqdm.write('lr:'+str(scheduler.get_last_lr()[0]))\n",
    "        # print('lr:{}'.format(scheduler.get_last_lr()[0]))\n",
    "\n",
    "        loss_tr, accuracy_tr = train(\n",
    "            dataloader_tr, model, optimizer, criterion)\n",
    "        loss_tr_hist.append(loss_tr)\n",
    "        accuracy_tr_hist.append(accuracy_tr)\n",
    "\n",
    "        loss_val, accuracy_val = validate(dataloader_val, model, criterion)\n",
    "        loss_val_hist.append(loss_val)\n",
    "        accuracy_val_hist.append(accuracy_val)\n",
    "\n",
    "        if scheduler is not None:\n",
    "            scheduler.step()\n",
    "\n",
    "        ######################## task 3.5 ##########################\n",
    "        if early_stop:\n",
    "            if  min_loss_val - loss_val_hist[-1] > 1e-3:\n",
    "                min_loss_val = loss_val_hist[-1]\n",
    "                early_stop_counter = 0\n",
    "            elif min_loss_val - loss_val_hist[-1] < 1e-3:\n",
    "                early_stop_counter += 1\n",
    "                if early_stop_counter >= patience:\n",
    "                    break\n",
    "    save_model(filename, model, optimizer, scheduler, epoch, loss_tr_hist, loss_val_hist, \n",
    "               accuracy_tr_hist, accuracy_val_hist, early_stop_counter)     \n",
    "        ########################    END   ##########################\n",
    "\n",
    "    return loss_tr_hist, loss_val_hist, accuracy_tr_hist, accuracy_val_hist\n"
   ]
  },
  {
   "cell_type": "code",
   "execution_count": 28,
   "metadata": {},
   "outputs": [
    {
     "name": "stderr",
     "output_type": "stream",
     "text": [
      "train:   0%|                                                            | 0.00/90.0k [00:00<?, ?B/s]"
     ]
    },
    {
     "name": "stdout",
     "output_type": "stream",
     "text": [
      "epoch:27\n",
      "lr:0.003850215729025776\n"
     ]
    },
    {
     "name": "stderr",
     "output_type": "stream",
     "text": [
      "train: 90.0kB [05:14, 286B/s]                                                                       \n",
      "validate: 10.0kB [00:12, 827B/s]                                                                    \n",
      "train:   0%|                                                            | 0.00/90.0k [00:00<?, ?B/s]"
     ]
    },
    {
     "name": "stdout",
     "output_type": "stream",
     "text": [
      "epoch:28\n",
      "lr:0.0038117135717355183\n"
     ]
    },
    {
     "name": "stderr",
     "output_type": "stream",
     "text": [
      "train: 90.0kB [05:16, 285B/s]                                                                       \n",
      "validate: 10.0kB [00:12, 825B/s]                                                                    \n",
      "train:   0%|                                                            | 0.00/90.0k [00:00<?, ?B/s]"
     ]
    },
    {
     "name": "stdout",
     "output_type": "stream",
     "text": [
      "epoch:29\n",
      "lr:0.003773596436018163\n"
     ]
    },
    {
     "name": "stderr",
     "output_type": "stream",
     "text": [
      "train: 90.0kB [05:16, 284B/s]                                                                       \n",
      "validate: 10.0kB [00:12, 822B/s]                                                                    \n",
      "train:   0%|                                                            | 0.00/90.0k [00:00<?, ?B/s]"
     ]
    },
    {
     "name": "stdout",
     "output_type": "stream",
     "text": [
      "epoch:30\n",
      "lr:0.0037358604716579815\n"
     ]
    },
    {
     "name": "stderr",
     "output_type": "stream",
     "text": [
      "train: 90.0kB [05:16, 284B/s]                                                                       \n",
      "validate: 10.0kB [00:12, 824B/s]                                                                    \n",
      "train:   0%|                                                            | 0.00/90.0k [00:00<?, ?B/s]"
     ]
    },
    {
     "name": "stdout",
     "output_type": "stream",
     "text": [
      "epoch:31\n",
      "lr:0.003698501866941402\n"
     ]
    },
    {
     "name": "stderr",
     "output_type": "stream",
     "text": [
      "train: 90.0kB [05:17, 284B/s]                                                                       \n",
      "validate: 10.0kB [00:12, 823B/s]                                                                    \n",
      "train:   0%|                                                            | 0.00/90.0k [00:00<?, ?B/s]"
     ]
    },
    {
     "name": "stdout",
     "output_type": "stream",
     "text": [
      "epoch:32\n",
      "lr:0.003661516848271988\n"
     ]
    },
    {
     "name": "stderr",
     "output_type": "stream",
     "text": [
      "train: 90.0kB [05:16, 284B/s]                                                                       \n",
      "validate: 10.0kB [00:12, 823B/s]                                                                    \n"
     ]
    }
   ],
   "source": [
    "loss_tr_hist, loss_val_hist, accuracy_tr_hist, accuracy_val_hist = fit(\n",
    "    ######################## task 3.6 ##########################\n",
    "    dataloader_tr, dataloader_val, model, criterion, optimizer, max_epoch=46, scheduler=scheduler, filename=model_filename, patience=5, resume=True\n",
    "\n",
    "    ########################    END   ##########################\n",
    ")\n"
   ]
  },
  {
   "cell_type": "code",
   "execution_count": null,
   "metadata": {},
   "outputs": [],
   "source": [
    "loss_tr_hist, loss_val_hist, accuracy_tr_hist, accuracy_val_hist = fit(\n",
    "    ######################## task 3.6 ##########################\n",
    "    dataloader_tr, dataloader_val, model, criterion, optimizer, max_epoch=50, scheduler=scheduler, filename='resnet_demo1_copy.pth' , patience=5, resume=True\n",
    "\n",
    "    ########################    END   ##########################\n",
    ")\n",
    "# model_filename"
   ]
  },
  {
   "cell_type": "code",
   "execution_count": null,
   "metadata": {},
   "outputs": [],
   "source": [
    "'模型加载'\n",
    "model_copy1 = torch.load('31_13_28_v2.pkl')\n",
    "model_copy1 = model_copy1.cuda()\n"
   ]
  },
  {
   "cell_type": "code",
   "execution_count": 31,
   "metadata": {},
   "outputs": [],
   "source": [
    "start_epoch, model, optimizer, scheduler, early_stop_counter, loss_tr_hist, loss_val_hist, accuracy_tr_hist, accuracy_val_hist = load_model(\n",
    "            'resnet_demo1.pth', model, optimizer, scheduler, mode='train')"
   ]
  },
  {
   "cell_type": "code",
   "execution_count": null,
   "metadata": {},
   "outputs": [],
   "source": [
    "# loss_tr, accuracy_tr = train(dataloader_tr, model_copy1, optimizer, criterion)\n",
    "loss_val_1, accuracy_val_1 = validate(dataloader_val, model_copy1, criterion)\n",
    "print('loss:{}'.format(loss_val_1))\n",
    "print('accuracy:{}%'.format(accuracy_val_1))\n"
   ]
  },
  {
   "cell_type": "code",
   "execution_count": 32,
   "metadata": {},
   "outputs": [
    {
     "name": "stdout",
     "output_type": "stream",
     "text": [
      "[0.07838222141265869, 0.07599151983261108, 0.07748364367485046, 0.08158318409919739, 0.1446047132253647, 0.06697978885173797, 0.06335766551494598, 0.06111399047374726, 0.0595904935836792, 0.05764588031768799, 0.05608321096897125, 0.05492121579647064, 0.05557469174861908, 0.05499853897094727, 0.053694168376922605, 0.05254914574623108, 0.05167583758831024, 0.051990764713287355, 0.053211701202392575, 0.05234219737052918, 0.051741630053520206, 0.052278660655021666]\n",
      "22\n",
      "-0.0023907015800476022\n",
      "0.0014921238422393734\n",
      "0.004099540424346931\n",
      "0.0630215291261673\n",
      "-0.07762492437362672\n",
      "-0.003622123336791988\n",
      "-0.0022436750411987255\n",
      "-0.00152349689006806\n",
      "-0.001944613265991206\n",
      "-0.0015626693487167387\n",
      "-0.00116199517250061\n",
      "0.0006534759521484371\n",
      "-0.0005761527776718123\n",
      "-0.001304370594024662\n",
      "-0.0011450226306915223\n",
      "-0.0008733081579208393\n",
      "0.00031492712497711156\n",
      "0.0012209364891052205\n",
      "-0.0008695038318633982\n",
      "-0.0006005673170089709\n",
      "0.0005370306015014606\n"
     ]
    }
   ],
   "source": [
    "print(loss_val_hist)\n",
    "print(len(loss_tr_hist))\n",
    "for i in range(len(loss_val_hist)-1):\n",
    "    print(loss_val_hist[i+1]-loss_val_hist[i])"
   ]
  },
  {
   "cell_type": "code",
   "execution_count": 33,
   "metadata": {},
   "outputs": [
    {
     "name": "stderr",
     "output_type": "stream",
     "text": [
      "validate: 10.0kB [00:12, 801B/s]                                                                    "
     ]
    },
    {
     "name": "stdout",
     "output_type": "stream",
     "text": [
      "loss:0.05225930428504944\n",
      "accuracy:27.61%\n"
     ]
    },
    {
     "name": "stderr",
     "output_type": "stream",
     "text": [
      "\n"
     ]
    }
   ],
   "source": [
    "'模型测试'\n",
    "loss_val_1, accuracy_val_1 = validate(dataloader_val, model, criterion)\n",
    "print('loss:{}'.format(loss_val_1))\n",
    "print('accuracy:{}%'.format(accuracy_val_1))"
   ]
  },
  {
   "cell_type": "code",
   "execution_count": null,
   "metadata": {},
   "outputs": [],
   "source": [
    "'模型保存'\n",
    "torch.save(model, time.strftime('%d_%H_%M_v2', time.localtime(time.time()))+'.pkl')\n"
   ]
  },
  {
   "cell_type": "code",
   "execution_count": null,
   "metadata": {},
   "outputs": [],
   "source": [
    "save_model('resnet_demo1.pth', model, optimizer, scheduler, 20, loss_tr_hist, loss_val_hist, accuracy_tr_hist, accuracy_val_hist, 0)"
   ]
  },
  {
   "cell_type": "code",
   "execution_count": 30,
   "metadata": {},
   "outputs": [
    {
     "data": {
      "image/png": "[encoded data removed]",
      "text/plain": [
       "<Figure size 720x360 with 2 Axes>"
      ]
     },
     "metadata": {
      "needs_background": "light"
     },
     "output_type": "display_data"
    }
   ],
   "source": [
    "'绘图'\n",
    "plot(loss_tr_hist, loss_val_hist, accuracy_tr_hist, accuracy_val_hist)\n"
   ]
  },
  {
   "cell_type": "code",
   "execution_count": null,
   "metadata": {},
   "outputs": [],
   "source": [
    "'获取GPU信息'\n",
    "if torch.cuda.is_available():\n",
    "    GPU_nums = torch.cuda.device_count()\n",
    "    print('got {} GPUs'.format(GPU_nums))\n",
    "    for i_gpu in range(GPU_nums):\n",
    "        print('GPU{}:{}'.format(i_gpu, torch.cuda.get_device_name(i_gpu)))\n"
   ]
  },
  {
   "cell_type": "code",
   "execution_count": 37,
   "metadata": {},
   "outputs": [
    {
     "name": "stderr",
     "output_type": "stream",
     "text": [
      "test: 10.0kB [00:04, 2.20kB/s]                                                                      "
     ]
    },
    {
     "name": "stdout",
     "output_type": "stream",
     "text": [
      "Test Loss:  0.0503  |  Test Accuracy: 45.7000\n"
     ]
    },
    {
     "name": "stderr",
     "output_type": "stream",
     "text": [
      "\n"
     ]
    }
   ],
   "source": [
    "# model = CNN()\n",
    "model = torch.load('31_13_28_v2.pkl')\n",
    "# model = ResNet()\n",
    "# model = load_model(model_filename, model, mode = 'test')\n",
    "if gpu:\n",
    "    model.cuda()\n",
    "pred, loss_test, accuracy_test = test(model, dataloader_test)\n",
    "print('Test Loss: {0:7.4f}  |  Test Accuracy: {1:7.4f}'.format(loss_test, accuracy_test))"
   ]
  }
 ],
 "metadata": {
  "interpreter": {
   "hash": "67e69f0853c7f93314557aba117e8197c4fb122577398ea7198410c48366132a"
  },
  "kernelspec": {
   "display_name": "Python 3.9.1 64-bit",
   "language": "python",
   "name": "python3"
  },
  "language_info": {
   "codemirror_mode": {
    "name": "ipython",
    "version": 3
   },
   "file_extension": ".py",
   "mimetype": "text/x-python",
   "name": "python",
   "nbconvert_exporter": "python",
   "pygments_lexer": "ipython3",
   "version": "3.8.8"
  },
  "orig_nbformat": 4
 },
 "nbformat": 4,
 "nbformat_minor": 2
}
