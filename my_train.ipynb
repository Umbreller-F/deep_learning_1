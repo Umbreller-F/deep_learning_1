{
 "cells": [
  {
   "cell_type": "code",
   "execution_count": 1,
   "metadata": {},
   "outputs": [],
   "source": [
    "import os\n",
    "import os.path\n",
    "import csv\n",
    "import time\n",
    "import PIL\n",
    "import math\n",
    "from sklearn.model_selection import StratifiedShuffleSplit\n",
    "import torch\n",
    "import torch.nn as nn\n",
    "import torch.nn.functional as F\n",
    "import torch.nn.init as init\n",
    "import torch.optim as optim\n",
    "from torch.utils.data import Dataset, DataLoader\n",
    "from torchvision import datasets, transforms, models\n",
    "import numpy as np\n",
    "import matplotlib.pyplot as plt\n",
    "from PIL import Image\n",
    "from tqdm import tqdm\n",
    "\n",
    "from ImageNet import *\n",
    "from CNN import *\n",
    "from ResNet import *\n",
    "from utils import *\n"
   ]
  },
  {
   "cell_type": "code",
   "execution_count": 2,
   "metadata": {},
   "outputs": [
    {
     "name": "stdout",
     "output_type": "stream",
     "text": [
      "Training on GPU\n"
     ]
    }
   ],
   "source": [
    "# Initialize dataset related parameters\n",
    "data_dir = './data'\n",
    "\n",
    "workers = 1\n",
    "batch_size = 64\n",
    "\n",
    "######################## task 3.1 ##########################\n",
    "\n",
    "max_epochs = 1\n",
    "lr = 0.001\n",
    "\n",
    "########################    END   ##########################\n",
    "\n",
    "\n",
    "gpu = torch.cuda.is_available()\n",
    "if gpu:\n",
    "    print('Training on GPU')\n",
    "else:\n",
    "    print('Training on CPU')\n"
   ]
  },
  {
   "cell_type": "code",
   "execution_count": 3,
   "metadata": {},
   "outputs": [],
   "source": [
    "transform1 = transforms.RandomApply([\n",
    "    ######################## task 0.1 ##########################\n",
    "    transforms.RandomHorizontalFlip(),\n",
    "    transforms.RandomResizedCrop(64, scale=(0.1, 1), ratio=(0.5, 2))\n",
    "])\n",
    "########################    END   ##########################\n",
    "\n",
    "transform2 = transforms.ToTensor()\n"
   ]
  },
  {
   "cell_type": "code",
   "execution_count": 4,
   "metadata": {},
   "outputs": [
    {
     "name": "stdout",
     "output_type": "stream",
     "text": [
      "Training Dataset Length: 90000\n",
      "Validation Dataset Length: 10000\n",
      "Test Dataset Length: 10000\n"
     ]
    }
   ],
   "source": [
    "'加载数据'\n",
    "dataset = TinyImageNetDataset(\n",
    "    data_dir+'/train', transform=transforms.Compose([transform1, transform2]))\n",
    "labels = dataset.get_labels()\n",
    "\n",
    "sss = StratifiedShuffleSplit(n_splits=1, test_size=0.1, random_state=0)\n",
    "idx_tr, idx_val = next(sss.split(labels, labels))\n",
    "\n",
    "dataset_tr = torch.utils.data.Subset(dataset, idx_tr)\n",
    "dataset_val = torch.utils.data.Subset(dataset, idx_val)\n",
    "\n",
    "dataloader_tr = torch.utils.data.DataLoader(\n",
    "    dataset_tr, batch_size=batch_size, shuffle=True, num_workers=workers)\n",
    "dataloader_val = torch.utils.data.DataLoader(\n",
    "    dataset_val, batch_size=batch_size, shuffle=True, num_workers=workers)\n",
    "\n",
    "print('Training Dataset Length: ' + str(len(dataset_tr)))\n",
    "print('Validation Dataset Length: ' + str(len(dataset_val)))\n",
    "\n",
    "class_to_idx = dataset.get_class_to_idx()\n",
    "dataset_test = TinyImageNetTestDataset(\n",
    "    data_dir+'/val', annot_filename='val_annotations.txt', class_to_idx=class_to_idx, transform=transform2)\n",
    "dataloader_test = torch.utils.data.DataLoader(\n",
    "    dataset_test, batch_size=batch_size, shuffle=True, num_workers=workers)\n",
    "\n",
    "print('Test Dataset Length: ' + str(len(dataset_test)))\n"
   ]
  },
  {
   "cell_type": "code",
   "execution_count": 5,
   "metadata": {},
   "outputs": [],
   "source": [
    "model = CNN()\n",
    "model.apply(init_weights)\n",
    "if gpu:\n",
    "    model.cuda()\n",
    "\n",
    "######################## task 3.2 ##########################\n",
    "optimizer = optim.Adam(model.parameters(), lr=0.02)\n",
    "scheduler = optim.lr_scheduler.ExponentialLR(optimizer, gamma=0.8)\n",
    "criterion = nn.CrossEntropyLoss()\n",
    "########################    END   ##########################\n",
    "\n",
    "model_filename = 'mymodel.pth'\n"
   ]
  },
  {
   "cell_type": "code",
   "execution_count": null,
   "metadata": {},
   "outputs": [],
   "source": [
    "print(model)\n",
    "model.eval()\n",
    "test_tensor = torch.randn(1, 3, 64, 64)\n",
    "print(test_tensor.shape)\n",
    "y1 = model(test_tensor)\n",
    "print(y1.shape)\n"
   ]
  },
  {
   "cell_type": "code",
   "execution_count": 6,
   "metadata": {},
   "outputs": [],
   "source": [
    "def train(dataloader, model, optimizer, criterion):\n",
    "    batch = 0\n",
    "    loss = 0.0\n",
    "    correct = 0.0\n",
    "\n",
    "    model.train()\n",
    "\n",
    "    with tqdm(total=len(dataloader.dataset), desc='train', leave=True, ncols=100, unit='B', unit_scale=True) as pbar:\n",
    "        for X, Y in dataloader:\n",
    "            if gpu:\n",
    "                X = X.cuda()\n",
    "                Y = Y.cuda()\n",
    "\n",
    "            optimizer.zero_grad()\n",
    "            logits = model(X)\n",
    "            cur_loss = criterion(logits, Y)\n",
    "            cur_loss.backward()\n",
    "            optimizer.step()\n",
    "            loss += cur_loss.item()\n",
    "            pred = logits.argmax(dim=1)\n",
    "            correct += pred.eq(Y).sum()\n",
    "\n",
    "            pbar.update(dataloader.batch_size)\n",
    "\n",
    "    loss = loss / float(len(dataloader.dataset))\n",
    "    accuracy = float(correct) / float(len(dataloader.dataset)) * 100\n",
    "\n",
    "    return loss, accuracy\n"
   ]
  },
  {
   "cell_type": "code",
   "execution_count": 7,
   "metadata": {},
   "outputs": [],
   "source": [
    "def validate(dataloader, model, criterion):\n",
    "\n",
    "    ######################## task 3.3 ##########################\n",
    "    with torch.no_grad():\n",
    "        batch = 0\n",
    "        loss = 0.0\n",
    "        correct = 0.0\n",
    "\n",
    "        model.eval()\n",
    "\n",
    "        with tqdm(total=len(dataloader.dataset), desc='validate', leave=True, ncols=100, unit='B', unit_scale=True) as pbar:\n",
    "            for X, Y in dataloader:\n",
    "                if gpu:\n",
    "                    X = X.cuda()\n",
    "                    Y = Y.cuda()\n",
    "\n",
    "                logits = model(X)\n",
    "                cur_loss = criterion(logits, Y)\n",
    "                loss += cur_loss.item()\n",
    "                pred = logits.argmax(dim=1)\n",
    "                correct += pred.eq(Y).sum()\n",
    "\n",
    "                pbar.update(dataloader.batch_size)\n",
    "\n",
    "        loss = loss / float(len(dataloader.dataset))\n",
    "        accuracy = float(correct) / float(len(dataloader.dataset)) * 100\n",
    "\n",
    "    ########################    END   ##########################\n",
    "\n",
    "    return loss, accuracy\n"
   ]
  },
  {
   "cell_type": "code",
   "execution_count": null,
   "metadata": {},
   "outputs": [],
   "source": [
    "def test(model, dataloader):\n",
    "\n",
    "    ######################## task 3.4 ##########################\n",
    "    batch = 0\n",
    "    loss = 0.0\n",
    "    correct = 0.0\n",
    "\n",
    "    model.eval()\n",
    "\n",
    "    with tqdm(total=len(dataloader.dataset), desc='test', leave=True, ncols=100, unit='B', unit_scale=True) as pbar:\n",
    "        for X, Y in dataloader:\n",
    "            if gpu:\n",
    "                X = X.cuda()\n",
    "                Y = Y.cuda()\n",
    "\n",
    "            logits = model(X)\n",
    "            cur_loss = criterion(logits, Y)\n",
    "            loss += cur_loss.item()\n",
    "            pred = logits.argmax(dim=1)\n",
    "            correct += pred.eq(Y).sum()\n",
    "\n",
    "            pbar.update(dataloader.batch_size)\n",
    "\n",
    "    loss = loss / float(len(dataloader.dataset))\n",
    "    accuracy = float(correct) / float(len(dataloader.dataset)) * 100\n",
    "\n",
    "    ########################    END   ##########################\n",
    "\n",
    "    return pred, loss, accuracy\n"
   ]
  },
  {
   "cell_type": "code",
   "execution_count": 8,
   "metadata": {},
   "outputs": [],
   "source": [
    "def fit(dataloader_tr, dataloader_val, model, criterion, optimizer, max_epoch=100, scheduler=None,\n",
    "        filename=None, early_stop=True, patience=10, resume=False):\n",
    "    start_epoch = 0\n",
    "    early_stop_counter = 0\n",
    "    min_loss_val = 1e10\n",
    "    loss_tr_hist = []\n",
    "    loss_val_hist = []\n",
    "    accuracy_tr_hist = []\n",
    "    accuracy_val_hist = []\n",
    "\n",
    "    '加载已有模型'\n",
    "    if resume == True:\n",
    "        if filename is None:\n",
    "            print('Please Provide File Name to load model')\n",
    "            return\n",
    "        start_epoch, model, optimizer, scheduler, early_stop_counter, loss_tr_hist, loss_val_hist, accuracy_tr_hist, accuracy_val_hist = load_model(\n",
    "            filename, model, optimizer, scheduler, mode='train')\n",
    "\n",
    "    for epoch in range(start_epoch+1, max_epoch + 1):\n",
    "        t0 = time.time()\n",
    "        print('epoch:{}'.format(epoch))\n",
    "        print('lr:{}'.format(scheduler.get_last_lr()[0]))\n",
    "\n",
    "        loss_tr, accuracy_tr = train(\n",
    "            dataloader_tr, model, optimizer, criterion)\n",
    "        loss_tr_hist.append(loss_tr)\n",
    "        accuracy_tr_hist.append(accuracy_tr)\n",
    "\n",
    "        loss_val, accuracy_val = validate(dataloader_val, model, criterion)\n",
    "        loss_val_hist.append(loss_val)\n",
    "        accuracy_val_hist.append(accuracy_val)\n",
    "\n",
    "        if scheduler is not None:\n",
    "            scheduler.step()\n",
    "\n",
    "        ######################## task 3.5 ##########################\n",
    "\n",
    "        ########################    END   ##########################\n",
    "\n",
    "    return loss_tr_hist, loss_val_hist, accuracy_tr_hist, accuracy_val_hist\n"
   ]
  },
  {
   "cell_type": "code",
   "execution_count": 9,
   "metadata": {},
   "outputs": [
    {
     "name": "stdout",
     "output_type": "stream",
     "text": [
      "epoch:1\n",
      "lr:0.02\n"
     ]
    },
    {
     "name": "stderr",
     "output_type": "stream",
     "text": [
      "train: 90.0kB [08:31, 225B/s]                                                                       \n",
      "validate: 10.0kB [00:17, 583B/s]                                                                    \n"
     ]
    },
    {
     "name": "stdout",
     "output_type": "stream",
     "text": [
      "epoch:2\n",
      "lr:0.016\n"
     ]
    },
    {
     "name": "stderr",
     "output_type": "stream",
     "text": [
      "train: 90.0kB [08:26, 175B/s]                                                                       \n",
      "validate: 10.0kB [01:10, 142B/s]                                                                    \n"
     ]
    },
    {
     "name": "stdout",
     "output_type": "stream",
     "text": [
      "epoch:3\n",
      "lr:0.0128\n"
     ]
    },
    {
     "name": "stderr",
     "output_type": "stream",
     "text": [
      "train: 90.0kB [09:16, 206B/s]                                                                       \n",
      "validate: 10.0kB [00:17, 637B/s]                                                                    \n"
     ]
    },
    {
     "name": "stdout",
     "output_type": "stream",
     "text": [
      "epoch:4\n",
      "lr:0.01024\n"
     ]
    },
    {
     "name": "stderr",
     "output_type": "stream",
     "text": [
      "train: 90.0kB [08:26, 214B/s]                                                                       \n",
      "validate: 10.0kB [00:15, 803B/s]                                                                    \n"
     ]
    },
    {
     "name": "stdout",
     "output_type": "stream",
     "text": [
      "epoch:5\n",
      "lr:0.008192000000000001\n"
     ]
    },
    {
     "name": "stderr",
     "output_type": "stream",
     "text": [
      "train: 90.0kB [08:44, 213B/s]                                                                       \n",
      "validate: 10.0kB [00:20, 481B/s]                                                                    \n"
     ]
    }
   ],
   "source": [
    "loss_tr_hist, loss_val_hist, accuracy_tr_hist, accuracy_val_hist = fit(\n",
    "    ######################## task 3.6 ##########################\n",
    "    dataloader_tr, dataloader_val, model, criterion, optimizer, max_epoch=20, scheduler=scheduler\n",
    "\n",
    "    ########################    END   ##########################\n",
    ")\n"
   ]
  },
  {
   "cell_type": "code",
   "execution_count": null,
   "metadata": {},
   "outputs": [],
   "source": [
    "'模型加载'\n",
    "model_copy1 = torch.load('28_10_51.pkl')\n",
    "model_copy1 = model_copy1.cuda()\n"
   ]
  },
  {
   "cell_type": "code",
   "execution_count": null,
   "metadata": {},
   "outputs": [],
   "source": [
    "for epoch in range(1):\n",
    "    loss_tr, accuracy_tr = train(dataloader_tr, model, optimizer, criterion)\n",
    "    print('loss_tr:{}'.format(loss_tr))\n",
    "    print('accuracy_tr:{}%\\n'.format(accuracy_tr))\n",
    "    loss_val_1, accuracy_val_1 = validate(dataloader_val, model, criterion)\n",
    "    print('loss_copy:{}'.format(loss_val_1))\n",
    "    print('accuracy_copy:{}%'.format(accuracy_val_1))\n"
   ]
  },
  {
   "cell_type": "code",
   "execution_count": null,
   "metadata": {},
   "outputs": [],
   "source": [
    "loss_val_1, accuracy_val_1 = validate(dataloader_val, model_copy1, criterion)\n",
    "print('loss_copy:{}'.format(loss_val_1))\n",
    "print('accuracy_copy:{}%'.format(accuracy_val_1))\n",
    "loss_val_1, accuracy_val_1 = validate(dataloader_val, model_copy1, criterion)\n",
    "print('loss_copy:{}'.format(loss_val_1))\n",
    "print('accuracy_copy:{}%'.format(accuracy_val_1))\n"
   ]
  },
  {
   "cell_type": "code",
   "execution_count": null,
   "metadata": {},
   "outputs": [],
   "source": [
    "loss_tr, accuracy_tr = train(dataloader_tr, model_copy1, optimizer, criterion)\n",
    "loss_val_1, accuracy_val_1 = validate(dataloader_val, model_copy1, criterion)\n"
   ]
  },
  {
   "cell_type": "code",
   "execution_count": null,
   "metadata": {},
   "outputs": [],
   "source": [
    "print('loss_tr:{}'.format(loss_tr))\n",
    "print('accuracy_tr:{}%'.format(accuracy_tr))\n",
    "print('loss_copy:{}'.format(loss_val_1))\n",
    "print('accuracy_copy:{}%'.format(accuracy_val_1))\n"
   ]
  },
  {
   "cell_type": "code",
   "execution_count": 12,
   "metadata": {},
   "outputs": [
    {
     "name": "stderr",
     "output_type": "stream",
     "text": [
      "validate: 10.0kB [00:12, 796B/s]                                                                    \n"
     ]
    },
    {
     "name": "stdout",
     "output_type": "stream",
     "text": [
      "loss_copy:0.073848739528656\n",
      "accuracy_copy:5.99%\n"
     ]
    }
   ],
   "source": [
    "loss_val_1, accuracy_val_1 = validate(dataloader_val, model, criterion)\n",
    "print('loss_copy:{}'.format(loss_val_1))\n",
    "print('accuracy_copy:{}%'.format(accuracy_val_1))\n"
   ]
  },
  {
   "cell_type": "code",
   "execution_count": 10,
   "metadata": {},
   "outputs": [],
   "source": [
    "'模型保存'\n",
    "torch.save(model, time.strftime(\n",
    "    '%d_%H_%M', time.localtime(time.time()))+'.pkl')\n"
   ]
  },
  {
   "cell_type": "code",
   "execution_count": 11,
   "metadata": {},
   "outputs": [
    {
     "data": {
      "image/png": "[encoded data removed]",
      "text/plain": [
       "<Figure size 720x360 with 2 Axes>"
      ]
     },
     "metadata": {
      "needs_background": "light"
     },
     "output_type": "display_data"
    }
   ],
   "source": [
    "plot(loss_tr_hist, loss_val_hist, accuracy_tr_hist, accuracy_val_hist)\n"
   ]
  },
  {
   "cell_type": "code",
   "execution_count": null,
   "metadata": {},
   "outputs": [],
   "source": [
    "'获取GPU信息'\n",
    "if torch.cuda.is_available():\n",
    "    GPU_nums = torch.cuda.device_count()\n",
    "    print('got {} GPUs'.format(GPU_nums))\n",
    "    for i_gpu in range(GPU_nums):\n",
    "        print('GPU{}:{}'.format(i_gpu, torch.cuda.get_device_name(i_gpu)))\n"
   ]
  }
 ],
 "metadata": {
  "interpreter": {
   "hash": "67e69f0853c7f93314557aba117e8197c4fb122577398ea7198410c48366132a"
  },
  "kernelspec": {
   "display_name": "Python 3.9.1 64-bit",
   "language": "python",
   "name": "python3"
  },
  "language_info": {
   "codemirror_mode": {
    "name": "ipython",
    "version": 3
   },
   "file_extension": ".py",
   "mimetype": "text/x-python",
   "name": "python",
   "nbconvert_exporter": "python",
   "pygments_lexer": "ipython3",
   "version": "3.9.1"
  },
  "orig_nbformat": 4
 },
 "nbformat": 4,
 "nbformat_minor": 2
}
